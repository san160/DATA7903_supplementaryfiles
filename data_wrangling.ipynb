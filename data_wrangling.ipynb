{
 "cells": [
  {
   "cell_type": "code",
   "execution_count": 23,
   "id": "49985114",
   "metadata": {},
   "outputs": [],
   "source": [
    "import pandas as pd\n",
    "import numpy as np\n",
    "import matplotlib.pyplot as plt"
   ]
  },
  {
   "attachments": {},
   "cell_type": "markdown",
   "id": "3e7732c7",
   "metadata": {},
   "source": [
    "***Reading the dataset and explore the features***"
   ]
  },
  {
   "cell_type": "code",
   "execution_count": 24,
   "id": "38954c68",
   "metadata": {},
   "outputs": [],
   "source": [
    "df = pd.read_csv('space_rocket_dataset.csv')"
   ]
  },
  {
   "cell_type": "code",
   "execution_count": 25,
   "id": "1b61a4d4",
   "metadata": {
    "scrolled": false
   },
   "outputs": [
    {
     "data": {
      "text/html": [
       "<div>\n",
       "<style scoped>\n",
       "    .dataframe tbody tr th:only-of-type {\n",
       "        vertical-align: middle;\n",
       "    }\n",
       "\n",
       "    .dataframe tbody tr th {\n",
       "        vertical-align: top;\n",
       "    }\n",
       "\n",
       "    .dataframe thead th {\n",
       "        text-align: right;\n",
       "    }\n",
       "</style>\n",
       "<table border=\"1\" class=\"dataframe\">\n",
       "  <thead>\n",
       "    <tr style=\"text-align: right;\">\n",
       "      <th></th>\n",
       "      <th>FlightNumber</th>\n",
       "      <th>Date</th>\n",
       "      <th>BoosterVersion</th>\n",
       "      <th>PayloadMass</th>\n",
       "      <th>Orbit</th>\n",
       "      <th>LaunchSite</th>\n",
       "      <th>Outcome</th>\n",
       "      <th>Flights</th>\n",
       "      <th>GridFins</th>\n",
       "      <th>Reused</th>\n",
       "      <th>Legs</th>\n",
       "      <th>LandingPad</th>\n",
       "      <th>Block</th>\n",
       "      <th>ReusedCount</th>\n",
       "      <th>Serial</th>\n",
       "      <th>Longitude</th>\n",
       "      <th>Latitude</th>\n",
       "    </tr>\n",
       "  </thead>\n",
       "  <tbody>\n",
       "    <tr>\n",
       "      <th>0</th>\n",
       "      <td>1</td>\n",
       "      <td>2006-03-24</td>\n",
       "      <td>Falcon 1</td>\n",
       "      <td>20.0</td>\n",
       "      <td>LEO</td>\n",
       "      <td>Kwajalein Atoll</td>\n",
       "      <td>None None</td>\n",
       "      <td>1</td>\n",
       "      <td>False</td>\n",
       "      <td>False</td>\n",
       "      <td>False</td>\n",
       "      <td>NaN</td>\n",
       "      <td>NaN</td>\n",
       "      <td>0</td>\n",
       "      <td>Merlin1A</td>\n",
       "      <td>167.743129</td>\n",
       "      <td>9.047721</td>\n",
       "    </tr>\n",
       "    <tr>\n",
       "      <th>1</th>\n",
       "      <td>2</td>\n",
       "      <td>2007-03-21</td>\n",
       "      <td>Falcon 1</td>\n",
       "      <td>NaN</td>\n",
       "      <td>LEO</td>\n",
       "      <td>Kwajalein Atoll</td>\n",
       "      <td>None None</td>\n",
       "      <td>1</td>\n",
       "      <td>False</td>\n",
       "      <td>False</td>\n",
       "      <td>False</td>\n",
       "      <td>NaN</td>\n",
       "      <td>NaN</td>\n",
       "      <td>0</td>\n",
       "      <td>Merlin2A</td>\n",
       "      <td>167.743129</td>\n",
       "      <td>9.047721</td>\n",
       "    </tr>\n",
       "    <tr>\n",
       "      <th>2</th>\n",
       "      <td>4</td>\n",
       "      <td>2008-09-28</td>\n",
       "      <td>Falcon 1</td>\n",
       "      <td>165.0</td>\n",
       "      <td>LEO</td>\n",
       "      <td>Kwajalein Atoll</td>\n",
       "      <td>None None</td>\n",
       "      <td>1</td>\n",
       "      <td>False</td>\n",
       "      <td>False</td>\n",
       "      <td>False</td>\n",
       "      <td>NaN</td>\n",
       "      <td>NaN</td>\n",
       "      <td>0</td>\n",
       "      <td>Merlin2C</td>\n",
       "      <td>167.743129</td>\n",
       "      <td>9.047721</td>\n",
       "    </tr>\n",
       "    <tr>\n",
       "      <th>3</th>\n",
       "      <td>5</td>\n",
       "      <td>2009-07-13</td>\n",
       "      <td>Falcon 1</td>\n",
       "      <td>200.0</td>\n",
       "      <td>LEO</td>\n",
       "      <td>Kwajalein Atoll</td>\n",
       "      <td>None None</td>\n",
       "      <td>1</td>\n",
       "      <td>False</td>\n",
       "      <td>False</td>\n",
       "      <td>False</td>\n",
       "      <td>NaN</td>\n",
       "      <td>NaN</td>\n",
       "      <td>0</td>\n",
       "      <td>Merlin3C</td>\n",
       "      <td>167.743129</td>\n",
       "      <td>9.047721</td>\n",
       "    </tr>\n",
       "    <tr>\n",
       "      <th>4</th>\n",
       "      <td>6</td>\n",
       "      <td>2010-06-04</td>\n",
       "      <td>Falcon 9</td>\n",
       "      <td>NaN</td>\n",
       "      <td>LEO</td>\n",
       "      <td>CCSFS SLC 40</td>\n",
       "      <td>None None</td>\n",
       "      <td>1</td>\n",
       "      <td>False</td>\n",
       "      <td>False</td>\n",
       "      <td>False</td>\n",
       "      <td>NaN</td>\n",
       "      <td>1.0</td>\n",
       "      <td>0</td>\n",
       "      <td>B0003</td>\n",
       "      <td>-80.577366</td>\n",
       "      <td>28.561857</td>\n",
       "    </tr>\n",
       "  </tbody>\n",
       "</table>\n",
       "</div>"
      ],
      "text/plain": [
       "   FlightNumber        Date BoosterVersion  PayloadMass Orbit  \\\n",
       "0             1  2006-03-24       Falcon 1         20.0   LEO   \n",
       "1             2  2007-03-21       Falcon 1          NaN   LEO   \n",
       "2             4  2008-09-28       Falcon 1        165.0   LEO   \n",
       "3             5  2009-07-13       Falcon 1        200.0   LEO   \n",
       "4             6  2010-06-04       Falcon 9          NaN   LEO   \n",
       "\n",
       "        LaunchSite    Outcome  Flights  GridFins  Reused   Legs LandingPad  \\\n",
       "0  Kwajalein Atoll  None None        1     False   False  False        NaN   \n",
       "1  Kwajalein Atoll  None None        1     False   False  False        NaN   \n",
       "2  Kwajalein Atoll  None None        1     False   False  False        NaN   \n",
       "3  Kwajalein Atoll  None None        1     False   False  False        NaN   \n",
       "4     CCSFS SLC 40  None None        1     False   False  False        NaN   \n",
       "\n",
       "   Block  ReusedCount    Serial   Longitude   Latitude  \n",
       "0    NaN            0  Merlin1A  167.743129   9.047721  \n",
       "1    NaN            0  Merlin2A  167.743129   9.047721  \n",
       "2    NaN            0  Merlin2C  167.743129   9.047721  \n",
       "3    NaN            0  Merlin3C  167.743129   9.047721  \n",
       "4    1.0            0     B0003  -80.577366  28.561857  "
      ]
     },
     "execution_count": 25,
     "metadata": {},
     "output_type": "execute_result"
    }
   ],
   "source": [
    "df.head()"
   ]
  },
  {
   "cell_type": "code",
   "execution_count": 26,
   "id": "7e69d7ae",
   "metadata": {},
   "outputs": [
    {
     "name": "stdout",
     "output_type": "stream",
     "text": [
      "<class 'pandas.core.frame.DataFrame'>\n",
      "RangeIndex: 94 entries, 0 to 93\n",
      "Data columns (total 17 columns):\n",
      " #   Column          Non-Null Count  Dtype  \n",
      "---  ------          --------------  -----  \n",
      " 0   FlightNumber    94 non-null     int64  \n",
      " 1   Date            94 non-null     object \n",
      " 2   BoosterVersion  94 non-null     object \n",
      " 3   PayloadMass     88 non-null     float64\n",
      " 4   Orbit           94 non-null     object \n",
      " 5   LaunchSite      94 non-null     object \n",
      " 6   Outcome         94 non-null     object \n",
      " 7   Flights         94 non-null     int64  \n",
      " 8   GridFins        94 non-null     bool   \n",
      " 9   Reused          94 non-null     bool   \n",
      " 10  Legs            94 non-null     bool   \n",
      " 11  LandingPad      64 non-null     object \n",
      " 12  Block           90 non-null     float64\n",
      " 13  ReusedCount     94 non-null     int64  \n",
      " 14  Serial          94 non-null     object \n",
      " 15  Longitude       94 non-null     float64\n",
      " 16  Latitude        94 non-null     float64\n",
      "dtypes: bool(3), float64(4), int64(3), object(7)\n",
      "memory usage: 10.7+ KB\n"
     ]
    }
   ],
   "source": [
    "df.info()"
   ]
  },
  {
   "attachments": {},
   "cell_type": "markdown",
   "id": "ee2d2d8f",
   "metadata": {},
   "source": [
    "### This dataset contians both records of Falcon 1 and Falcon 9. The outcome of Falcon1 are all faile, thus, it might affect the accuracy rate to predict the launch outcome of Falcon 9, those records would be dropped. And also the Outcome attribute actually contains two features. The first one describes if the mission is success, it has three distince values, None, True and False. The second one describes which type of launch pad is involved in this mission, it has three distinct vlaues, None, True and Flase."
   ]
  },
  {
   "cell_type": "code",
   "execution_count": 27,
   "id": "a4261eb5",
   "metadata": {
    "scrolled": true
   },
   "outputs": [],
   "source": [
    "df[['Success', 'pad_type']] = df['Outcome'].str.split(' ', 1, expand=True)\n",
    "df = df.drop(columns=['Outcome'])\n",
    "df.drop(df[df['BoosterVersion'] == 'Falcon 1'].index, inplace = True)\n",
    "di = {'None':0, 'False':0, 'True':1}\n",
    "df.replace({\"Success\": di}, inplace=True)"
   ]
  },
  {
   "cell_type": "code",
   "execution_count": 28,
   "id": "a408219c",
   "metadata": {
    "scrolled": false
   },
   "outputs": [
    {
     "data": {
      "text/plain": [
       "FlightNumber       0\n",
       "Date               0\n",
       "BoosterVersion     0\n",
       "PayloadMass        5\n",
       "Orbit              0\n",
       "LaunchSite         0\n",
       "Flights            0\n",
       "GridFins           0\n",
       "Reused             0\n",
       "Legs               0\n",
       "LandingPad        26\n",
       "Block              0\n",
       "ReusedCount        0\n",
       "Serial             0\n",
       "Longitude          0\n",
       "Latitude           0\n",
       "Success            0\n",
       "pad_type           0\n",
       "dtype: int64"
      ]
     },
     "execution_count": 28,
     "metadata": {},
     "output_type": "execute_result"
    }
   ],
   "source": [
    "df.isnull().sum()"
   ]
  },
  {
   "attachments": {},
   "cell_type": "markdown",
   "id": "18363a6d",
   "metadata": {},
   "source": [
    "There are two columns contains missing values, which are PayloadMass and LandingPad.\\n\n",
    "Firstly, let's fill the NaN of Landing pad by using the location, the strategy is that landing pad will be same is they are in the same location"
   ]
  },
  {
   "cell_type": "code",
   "execution_count": 29,
   "id": "b4a094be",
   "metadata": {},
   "outputs": [],
   "source": [
    "fill_lp_1 = list(df.groupby(['Longitude', 'Latitude']))\n",
    "frames = []\n",
    "for grp in fill_lp_1:\n",
    "    temp_df = grp[1]\n",
    "    temp_df['LandingPad'].fillna(method='ffill', inplace=True)\n",
    "    temp_df['LandingPad'].fillna(method='bfill', inplace=True)\n",
    "    temp_df1 = temp_df\n",
    "    frames.append(temp_df1)\n",
    "lp_fill_1 = pd.concat(frames)\n",
    "lp_fill_1 = lp_fill_1.sort_index(ascending=True)"
   ]
  },
  {
   "cell_type": "code",
   "execution_count": 30,
   "id": "34fcc5aa",
   "metadata": {
    "scrolled": true
   },
   "outputs": [
    {
     "data": {
      "text/plain": [
       "FlightNumber      0\n",
       "Date              0\n",
       "BoosterVersion    0\n",
       "PayloadMass       5\n",
       "Orbit             0\n",
       "LaunchSite        0\n",
       "Flights           0\n",
       "GridFins          0\n",
       "Reused            0\n",
       "Legs              0\n",
       "LandingPad        0\n",
       "Block             0\n",
       "ReusedCount       0\n",
       "Serial            0\n",
       "Longitude         0\n",
       "Latitude          0\n",
       "Success           0\n",
       "pad_type          0\n",
       "dtype: int64"
      ]
     },
     "execution_count": 30,
     "metadata": {},
     "output_type": "execute_result"
    }
   ],
   "source": [
    "lp_fill_1.isnull().sum()"
   ]
  },
  {
   "cell_type": "code",
   "execution_count": 31,
   "id": "995b0850",
   "metadata": {
    "scrolled": true
   },
   "outputs": [
    {
     "name": "stdout",
     "output_type": "stream",
     "text": [
      "Empty DataFrame\n",
      "Columns: [FlightNumber, Date, BoosterVersion, PayloadMass, Orbit, LaunchSite, Flights, GridFins, Reused, Legs, LandingPad, Block, ReusedCount, Serial, Longitude, Latitude, Success, pad_type]\n",
      "Index: []\n"
     ]
    }
   ],
   "source": [
    "print(lp_fill_1[lp_fill_1['LandingPad'].isnull()])"
   ]
  },
  {
   "cell_type": "code",
   "execution_count": 32,
   "id": "f66f3956",
   "metadata": {
    "scrolled": false
   },
   "outputs": [
    {
     "data": {
      "text/plain": [
       "<AxesSubplot:xlabel='LandingPad'>"
      ]
     },
     "execution_count": 32,
     "metadata": {},
     "output_type": "execute_result"
    },
    {
     "data": {
      "image/png": "[encoded data removed]",
      "text/plain": [
       "<Figure size 640x480 with 1 Axes>"
      ]
     },
     "metadata": {},
     "output_type": "display_data"
    }
   ],
   "source": [
    "lp_fill_1.groupby('LandingPad')['FlightNumber'].nunique().plot.bar()"
   ]
  },
  {
   "cell_type": "code",
   "execution_count": 33,
   "id": "f049076a",
   "metadata": {},
   "outputs": [],
   "source": [
    "df = lp_fill_1.copy()"
   ]
  },
  {
   "cell_type": "code",
   "execution_count": 34,
   "id": "f98e1b34",
   "metadata": {},
   "outputs": [],
   "source": [
    "group1 = list(df.groupby(['Orbit','Success']))"
   ]
  },
  {
   "cell_type": "code",
   "execution_count": 35,
   "id": "234abb21",
   "metadata": {},
   "outputs": [],
   "source": [
    "frames1 = []\n",
    "for grp in group1:\n",
    "    temp_df = grp[1]\n",
    "    temp_df['PayloadMass'].fillna(value=temp_df['PayloadMass'].mean(), inplace=True)\n",
    "    temp_df1 = temp_df\n",
    "    frames1.append(temp_df1)\n",
    "new_df1 = pd.concat(frames1)\n",
    "new_df1 = new_df1.sort_index(ascending=True)"
   ]
  },
  {
   "cell_type": "code",
   "execution_count": 36,
   "id": "a7a24d53",
   "metadata": {},
   "outputs": [
    {
     "data": {
      "text/plain": [
       "FlightNumber      0\n",
       "Date              0\n",
       "BoosterVersion    0\n",
       "PayloadMass       2\n",
       "Orbit             0\n",
       "LaunchSite        0\n",
       "Flights           0\n",
       "GridFins          0\n",
       "Reused            0\n",
       "Legs              0\n",
       "LandingPad        0\n",
       "Block             0\n",
       "ReusedCount       0\n",
       "Serial            0\n",
       "Longitude         0\n",
       "Latitude          0\n",
       "Success           0\n",
       "pad_type          0\n",
       "dtype: int64"
      ]
     },
     "execution_count": 36,
     "metadata": {},
     "output_type": "execute_result"
    }
   ],
   "source": [
    "new_df1.isnull().sum()"
   ]
  },
  {
   "cell_type": "code",
   "execution_count": 37,
   "id": "be7046a9",
   "metadata": {},
   "outputs": [],
   "source": [
    "group2 = list(new_df1.groupby(['Orbit']))\n",
    "frames2 = []\n",
    "for grp in group2:\n",
    "    temp_df = grp[1]\n",
    "    temp_df['PayloadMass'].fillna(value=temp_df['PayloadMass'].mean(), inplace=True)\n",
    "    temp_df1 = temp_df\n",
    "    frames2.append(temp_df1)\n",
    "new_df2 = pd.concat(frames2)\n",
    "new_df2 = new_df2.sort_index(ascending=True)"
   ]
  },
  {
   "cell_type": "code",
   "execution_count": 38,
   "id": "f65ba8bf",
   "metadata": {},
   "outputs": [
    {
     "data": {
      "text/plain": [
       "FlightNumber      0\n",
       "Date              0\n",
       "BoosterVersion    0\n",
       "PayloadMass       2\n",
       "Orbit             0\n",
       "LaunchSite        0\n",
       "Flights           0\n",
       "GridFins          0\n",
       "Reused            0\n",
       "Legs              0\n",
       "LandingPad        0\n",
       "Block             0\n",
       "ReusedCount       0\n",
       "Serial            0\n",
       "Longitude         0\n",
       "Latitude          0\n",
       "Success           0\n",
       "pad_type          0\n",
       "dtype: int64"
      ]
     },
     "execution_count": 38,
     "metadata": {},
     "output_type": "execute_result"
    }
   ],
   "source": [
    "new_df2.isnull().sum()"
   ]
  },
  {
   "cell_type": "code",
   "execution_count": 39,
   "id": "c2953ea0",
   "metadata": {},
   "outputs": [
    {
     "name": "stdout",
     "output_type": "stream",
     "text": [
      "    FlightNumber        Date BoosterVersion  PayloadMass Orbit    LaunchSite  \\\n",
      "76            88  2020-01-19       Falcon 9          NaN    SO    KSC LC 39A   \n",
      "86            98  2020-07-20       Falcon 9          NaN   GEO  CCSFS SLC 40   \n",
      "\n",
      "    Flights  GridFins  Reused   Legs                LandingPad  Block  \\\n",
      "76        4     False    True  False  5e9e3032383ecb6bb234e7ca    5.0   \n",
      "86        2      True    True   True  5e9e3033383ecbb9e534e7cc    5.0   \n",
      "\n",
      "    ReusedCount Serial  Longitude   Latitude  Success pad_type  \n",
      "76            3  B1046 -80.603956  28.608058        0     None  \n",
      "86           12  B1058 -80.577366  28.561857        1     ASDS  \n"
     ]
    }
   ],
   "source": [
    "print(new_df2[new_df2['PayloadMass'].isnull()])"
   ]
  },
  {
   "attachments": {},
   "cell_type": "markdown",
   "id": "63ad0a81",
   "metadata": {},
   "source": [
    "orbit type, SO = SSO, and GEO has similar distance with MEO, thus, let's replace those two with new values. "
   ]
  },
  {
   "cell_type": "code",
   "execution_count": 40,
   "id": "87ee6ae8",
   "metadata": {},
   "outputs": [],
   "source": [
    "new_df2['Orbit'].replace('SO', 'SSO', inplace=True)\n",
    "new_df2['Orbit'].replace('GEO', 'MEO', inplace=True)"
   ]
  },
  {
   "cell_type": "code",
   "execution_count": 41,
   "id": "9eae2334",
   "metadata": {},
   "outputs": [],
   "source": [
    "group3 = list(new_df2.groupby(['Orbit']))\n",
    "frames3 = []\n",
    "for grp in group3:\n",
    "    temp_df = grp[1]\n",
    "    temp_df['PayloadMass'].fillna(value=temp_df['PayloadMass'].mean(), inplace=True)\n",
    "    temp_df1 = temp_df\n",
    "    frames3.append(temp_df1)\n",
    "new_df3 = pd.concat(frames3)\n",
    "new_df3 = new_df3.sort_index(ascending=True)"
   ]
  },
  {
   "cell_type": "code",
   "execution_count": 42,
   "id": "d579a428",
   "metadata": {
    "scrolled": true
   },
   "outputs": [
    {
     "data": {
      "text/plain": [
       "FlightNumber      0\n",
       "Date              0\n",
       "BoosterVersion    0\n",
       "PayloadMass       0\n",
       "Orbit             0\n",
       "LaunchSite        0\n",
       "Flights           0\n",
       "GridFins          0\n",
       "Reused            0\n",
       "Legs              0\n",
       "LandingPad        0\n",
       "Block             0\n",
       "ReusedCount       0\n",
       "Serial            0\n",
       "Longitude         0\n",
       "Latitude          0\n",
       "Success           0\n",
       "pad_type          0\n",
       "dtype: int64"
      ]
     },
     "execution_count": 42,
     "metadata": {},
     "output_type": "execute_result"
    }
   ],
   "source": [
    "new_df3.isnull().sum()"
   ]
  },
  {
   "cell_type": "code",
   "execution_count": 43,
   "id": "60ab305d",
   "metadata": {},
   "outputs": [],
   "source": [
    "new_df3.to_csv('data_after_wrangle.csv', index=False)"
   ]
  },
  {
   "cell_type": "code",
   "execution_count": null,
   "id": "94ce1dfa",
   "metadata": {},
   "outputs": [],
   "source": []
  }
 ],
 "metadata": {
  "kernelspec": {
   "display_name": "Python 3 (ipykernel)",
   "language": "python",
   "name": "python3"
  },
  "language_info": {
   "codemirror_mode": {
    "name": "ipython",
    "version": 3
   },
   "file_extension": ".py",
   "mimetype": "text/x-python",
   "name": "python",
   "nbconvert_exporter": "python",
   "pygments_lexer": "ipython3",
   "version": "3.9.12"
  }
 },
 "nbformat": 4,
 "nbformat_minor": 5
}
